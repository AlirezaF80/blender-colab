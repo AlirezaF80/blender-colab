{
  "nbformat": 4,
  "nbformat_minor": 0,
  "metadata": {
    "colab": {
      "name": "blender.ipynb",
      "provenance": [],
      "collapsed_sections": [
        "Ih0Sm4-MFw7F",
        "54u80adjU8Tx",
        "Zx_f7BB7Guuq",
        "RPiQkHVbCDu2",
        "PP4DzhYICKsk"
      ]
    },
    "kernelspec": {
      "name": "python3",
      "display_name": "Python 3"
    },
    "accelerator": "GPU"
  },
  "cells": [
    {
      "cell_type": "markdown",
      "metadata": {
        "id": "aCGg7BA0P4SC",
        "colab_type": "text"
      },
      "source": [
        "**Note** : \n",
        "This Notebook originally belongs to Sajil (cominlooks channel on YouTube) and we have just translated it to persian. check this link out for his tutorial to render :\n",
        "\n",
        "https://www.youtube.com/watch?v=uv45KzL9ick&lc=UgwEGxZHwr8LL8TUJGR4AaABAg.99hY9iVHK9l9Breu1aNixT"
      ]
    },
    {
      "cell_type": "markdown",
      "metadata": {
        "id": "oKbzzL2rTQ4T",
        "colab_type": "text"
      },
      "source": [
        "[![Open In Colab](https://colab.research.google.com/assets/colab-badge.svg)](https://colab.research.google.com/github/sinatv52/BlenderOnColab/blob/master/blender.ipynb)\n",
        "\n"
      ]
    },
    {
      "cell_type": "markdown",
      "metadata": {
        "id": "Ih0Sm4-MFw7F",
        "colab_type": "text"
      },
      "source": [
        "### نوع و میزان رم جی پی یو که کولب به ما می دهد "
      ]
    },
    {
      "cell_type": "code",
      "metadata": {
        "id": "aGlQwWT9IuCz",
        "colab_type": "code",
        "colab": {}
      },
      "source": [
        "!nvidia-smi"
      ],
      "execution_count": null,
      "outputs": []
    },
    {
      "cell_type": "markdown",
      "metadata": {
        "id": "54u80adjU8Tx",
        "colab_type": "text"
      },
      "source": [
        "##اتصل گوگل کولب به  گوگل درایو"
      ]
    },
    {
      "cell_type": "markdown",
      "metadata": {
        "id": "5gB1u5uKHVZK",
        "colab_type": "text"
      },
      "source": [
        "برای دسترسی به فایل پروژه بلندر و همچنین انتقال تصاویر رندر شده از کولب به گوگل درایو این اتصال ضروری میباشد.\n",
        "\n",
        "توجه: میتوان با استفاده از فایل منجر سمت چپ فایل بلندر پروژه را مستقیما به کولب آپلود کرد و تصاویر رندر گرفته شده را دانلود کرد ولی ما روش فوق را توصیه میکنیم."
      ]
    },
    {
      "cell_type": "code",
      "metadata": {
        "colab_type": "code",
        "id": "MjUawANMG_LL",
        "colab": {
          "base_uri": "https://localhost:8080/",
          "height": 125
        },
        "outputId": "b52f250e-cb30-426f-d90b-cfcf81ebd3c7"
      },
      "source": [
        "from google.colab import drive\n",
        "drive.mount('/gdrive')"
      ],
      "execution_count": 2,
      "outputs": [
        {
          "output_type": "stream",
          "text": [
            "Go to this URL in a browser: https://accounts.google.com/o/oauth2/auth?client_id=947318989803-6bn6qk8qdgf4n4g3pfee6491hc0brc4i.apps.googleusercontent.com&redirect_uri=urn%3aietf%3awg%3aoauth%3a2.0%3aoob&response_type=code&scope=email%20https%3a%2f%2fwww.googleapis.com%2fauth%2fdocs.test%20https%3a%2f%2fwww.googleapis.com%2fauth%2fdrive%20https%3a%2f%2fwww.googleapis.com%2fauth%2fdrive.photos.readonly%20https%3a%2f%2fwww.googleapis.com%2fauth%2fpeopleapi.readonly\n",
            "\n",
            "Enter your authorization code:\n",
            "··········\n",
            "Mounted at /gdrive\n"
          ],
          "name": "stdout"
        }
      ]
    },
    {
      "cell_type": "markdown",
      "metadata": {
        "id": "Zx_f7BB7Guuq",
        "colab_type": "text"
      },
      "source": [
        "##نصب بلندر با توجه به نسخه مورد نظر"
      ]
    },
    {
      "cell_type": "code",
      "metadata": {
        "id": "GPJ9fmoB6PWM",
        "colab_type": "code",
        "colab": {
          "base_uri": "https://localhost:8080/",
          "height": 710
        },
        "outputId": "90d6db62-ef80-45fb-e734-14e985a13170"
      },
      "source": [
        "#@title نسخه مورد نظر را از منوی زیر انتخاب کرده و با اجرا کردن این بخش آن را نصب کنید{ display-mode: \"form\" }\n",
        "Blender_Version = 'Blender 2.83.0' #@param [\"Blender 2.79b\", \"Blender 2.80\", \"Blender 2.81\", \"Blender 2.82a\", \"Blender 2.83.0\", \"Blender 2.83.3\", \"Blender 2.90alpha (expiremental)\"]\n",
        "\n",
        "def path_leaf(path):\n",
        "  import ntpath\n",
        "  head, tail = ntpath.split(path)\n",
        "  return tail or ntpath.basename(head)\n",
        "\n",
        "dl_link = {\n",
        "    \"Blender 2.79b\": \"https://download.blender.org/release/Blender2.79/blender-2.79b-linux-glibc219-x86_64.tar.bz2\",\n",
        "    \"Blender 2.80\": \"https://download.blender.org/release/Blender2.80/blender-2.80-linux-glibc217-x86_64.tar.bz2\",\n",
        "    \"Blender 2.81\": \"https://download.blender.org/release/Blender2.81/blender-2.81-linux-glibc217-x86_64.tar.bz2\",\n",
        "    \"Blender 2.82a\": \"https://download.blender.org/release/Blender2.82/blender-2.82a-linux64.tar.xz\",\n",
        "    \"Blender 2.83.0\": \"https://download.blender.org/release/Blender2.83/blender-2.83.0-linux64.tar.xz\",\n",
        "    \"Blender 2.83.3\": \"https://download.blender.org/release/Blender2.83/blender-2.83.3-linux64.tar.xz\",\n",
        "    \"Blender 2.90alpha (expiremental)\": \"https://blender.community/5edccfe69c122126f183e2ad/download/5ef635439c12214ca244be6b\"\n",
        "}\n",
        "\n",
        "\n",
        "dl = dl_link[Blender_Version]\n",
        "filename = path_leaf(dl)\n",
        "\n",
        "if (Blender_Version == \"Blender 2.90alpha (expiremental)\"):\n",
        "  !wget $dl\n",
        "  !sudo apt-get install p7zip-full\n",
        "  !7z x $filename\n",
        "  !mv blender_290bM_e935447a5370-20200625-1857 blender\n",
        "\n",
        "\n",
        "\n",
        "else:\n",
        "  !wget -nc $dl\n",
        "  !mkdir ./blender && tar xf $filename -C ./blender --strip-components 1\n",
        "\n",
        "\n",
        "\n",
        "!apt install libboost-all-dev\n",
        "!apt install libgl1-mesa-dev\n",
        "!apt install libglu1-mesa libsm-dev\n",
        "\n",
        "\n",
        "data = \"import re\\n\"+\\\n",
        "    \"import bpy\\n\"+\\\n",
        "    \"scene = bpy.context.scene\\n\"+\\\n",
        "    \"scene.cycles.device = 'GPU'\\n\"+\\\n",
        "    \"prefs = bpy.context.preferences\\n\"+\\\n",
        "    \"prefs.addons['cycles'].preferences.get_devices()\\n\"+\\\n",
        "    \"cprefs = prefs.addons['cycles'].preferences\\n\"+\\\n",
        "    \"print(cprefs)\\n\"+\\\n",
        "    \"# Attempt to set GPU device types if available\\n\"+\\\n",
        "    \"for compute_device_type in ('CUDA', 'OPENCL', 'NONE'):\\n\"+\\\n",
        "    \"    try:\\n\"+\\\n",
        "    \"        cprefs.compute_device_type = compute_device_type\\n\"+\\\n",
        "    \"        print('Device found',compute_device_type)\\n\"+\\\n",
        "    \"        break\\n\"+\\\n",
        "    \"    except TypeError:\\n\"+\\\n",
        "    \"        pass\\n\"+\\\n",
        "    \"# Enable all CPU and GPU devices\\n\"+\\\n",
        "    \"for device in cprefs.devices:\\n\"+\\\n",
        "    \"    if not re.match('intel', device.name, re.I):\\n\"+\\\n",
        "    \"        print('Activating',device)\\n\"+\\\n",
        "    \"        device.use = True\\n\"\n",
        "with open('setgpu.py', 'w') as f:\n",
        "    f.write(data)"
      ],
      "execution_count": 3,
      "outputs": [
        {
          "output_type": "stream",
          "text": [
            "--2020-08-03 11:59:53--  https://download.blender.org/release/Blender2.83/blender-2.83.0-linux64.tar.xz\n",
            "Resolving download.blender.org (download.blender.org)... 82.94.213.221\n",
            "Connecting to download.blender.org (download.blender.org)|82.94.213.221|:443... connected.\n",
            "HTTP request sent, awaiting response... 200 OK\n",
            "Length: 132517048 (126M) [application/octet-stream]\n",
            "Saving to: ‘blender-2.83.0-linux64.tar.xz’\n",
            "\n",
            "blender-2.83.0-linu 100%[===================>] 126.38M  3.62MB/s    in 63s     \n",
            "\n",
            "2020-08-03 12:00:56 (2.02 MB/s) - ‘blender-2.83.0-linux64.tar.xz’ saved [132517048/132517048]\n",
            "\n",
            "Reading package lists... Done\n",
            "Building dependency tree       \n",
            "Reading state information... Done\n",
            "libboost-all-dev is already the newest version (1.65.1.0ubuntu1).\n",
            "The following package was automatically installed and is no longer required:\n",
            "  libnvidia-common-440\n",
            "Use 'apt autoremove' to remove it.\n",
            "0 upgraded, 0 newly installed, 0 to remove and 35 not upgraded.\n",
            "Reading package lists... Done\n",
            "Building dependency tree       \n",
            "Reading state information... Done\n",
            "libgl1-mesa-dev is already the newest version (20.0.8-0ubuntu1~18.04.1).\n",
            "libgl1-mesa-dev set to manually installed.\n",
            "The following package was automatically installed and is no longer required:\n",
            "  libnvidia-common-440\n",
            "Use 'apt autoremove' to remove it.\n",
            "0 upgraded, 0 newly installed, 0 to remove and 35 not upgraded.\n",
            "Reading package lists... Done\n",
            "Building dependency tree       \n",
            "Reading state information... Done\n",
            "libglu1-mesa is already the newest version (9.0.0-2.1build1).\n",
            "libglu1-mesa set to manually installed.\n",
            "libsm-dev is already the newest version (2:1.2.2-1).\n",
            "libsm-dev set to manually installed.\n",
            "The following package was automatically installed and is no longer required:\n",
            "  libnvidia-common-440\n",
            "Use 'apt autoremove' to remove it.\n",
            "0 upgraded, 0 newly installed, 0 to remove and 35 not upgraded.\n"
          ],
          "name": "stdout"
        }
      ]
    },
    {
      "cell_type": "markdown",
      "metadata": {
        "id": "RPiQkHVbCDu2",
        "colab_type": "text"
      },
      "source": [
        "## رندرگیری برای یک فریم"
      ]
    },
    {
      "cell_type": "code",
      "metadata": {
        "id": "Fpk2w3yM8XqQ",
        "colab_type": "code",
        "colab": {}
      },
      "source": [
        "!sudo ./blender/blender -P setgpu.py -b '/content/courseforsend.blend' -o '/content/s.png' -f 1000"
      ],
      "execution_count": null,
      "outputs": []
    },
    {
      "cell_type": "markdown",
      "metadata": {
        "id": "PP4DzhYICKsk",
        "colab_type": "text"
      },
      "source": [
        "##رندرگیری برای چندین فریم"
      ]
    },
    {
      "cell_type": "markdown",
      "metadata": {
        "id": "KqTo_SvSIj-0",
        "colab_type": "text"
      },
      "source": [
        "            نیاز داریم فایل پروژه بلندر آپلود شده جهت رندرگیری در گوگل درایو را به حافظه کولب کپی کنیم.\n",
        "            در این مثال فایل پروژه با نام \n",
        "            corseforsend.blend  \n",
        "            درون فایل \n",
        "            SSSS \n",
        "            در گوگل درایو آپلود کرده ایم که بوسیله کد زیر به داخل فایل یا دایرکتوری کانتنت که همان حافظه ی کولب میباشد منتقل می شود."
      ]
    },
    {
      "cell_type": "code",
      "metadata": {
        "id": "zNNRr2i6JDVk",
        "colab_type": "code",
        "colab": {}
      },
      "source": [
        "!cp /gdrive/My\\ Drive/SSSS/courseforsend.blend /content/"
      ],
      "execution_count": 4,
      "outputs": []
    },
    {
      "cell_type": "markdown",
      "metadata": {
        "id": "lzpUbGhcJbZ0",
        "colab_type": "text"
      },
      "source": [
        "          در این قسمت رندرگیری را آغاز میکنیم و تصاویر خروجی با فرمت\n",
        "          png \n",
        "          ذخیره میشوندو ازفایل منجر سمت چپ با رفرش کردن پس از پایان هر فریم قابل مشاهده هستند.\n",
        "\n",
        "اعداد 1 تا 3 در آخر کد زیر شماره ی فریم را نسان میدهند یعنی فریم 1 و 2 و3 رندرگیری میشوند. که میتوان به طر مثال از اعداد 15 یا 20 هم شروع کرد.\n",
        "\n",
        "برای نشان دادن تمامی مراحل در فیلم آموزشی هر سه فریم رندر گرفته شده و اجرا تمام میشود!!!\n",
        "\n",
        "\n",
        "          توجه: ممکن است با تعداد فریم بالا و میزان بالای گزارش عملکرد خروجی با اجرا همزمان نباشد که میتوان چند ثانیه یکبار خروجی را پاک کرد"
      ]
    },
    {
      "cell_type": "code",
      "metadata": {
        "id": "VFVx8omJCGBN",
        "colab_type": "code",
        "colab": {}
      },
      "source": [
        "!sudo ./blender/blender -P setgpu.py -b '/content/courseforsend.blend' -o '/content/s.png' -s 0001 -e 0003 -a"
      ],
      "execution_count": null,
      "outputs": []
    },
    {
      "cell_type": "markdown",
      "metadata": {
        "id": "4sJ7A3x5J-el",
        "colab_type": "text"
      },
      "source": [
        "پس از اتمام رندرگیری نیاز هست تصاویر تولید شده را به حافظه پایدار گوگل درایو بازگردانیم چرا که با قطع شدن و یا اتمام مهلت استفاده 12 ساعته از گوگل کولب، تمامی فایل ها پاک میشوند.\n",
        "\n",
        "    در زیر تمامی فایلهایی که پسوند آنها \n",
        "    png \n",
        "    هستند به داخل فولدر \n",
        "    SSSS \n",
        "    درون گوگل درایو منتقل میشوند.\n",
        "    البته با راست کلیک بر روی تصویر خروجی نیز میتوانید آنها را تک تک دانلود کنید."
      ]
    },
    {
      "cell_type": "code",
      "metadata": {
        "colab_type": "code",
        "id": "aY9FhG-lATSL",
        "colab": {}
      },
      "source": [
        "!cp /content/*.png /gdrive/My\\ Drive/SSSS/"
      ],
      "execution_count": 6,
      "outputs": []
    }
  ]
}
